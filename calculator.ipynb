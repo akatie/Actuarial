{
 "cells": [
  {
   "cell_type": "code",
   "execution_count": 20,
   "metadata": {},
   "outputs": [],
   "source": [
    "import numpy as np\n",
    "import math"
   ]
  },
  {
   "cell_type": "code",
   "execution_count": 21,
   "metadata": {},
   "outputs": [],
   "source": [
    "def peir(i=None, d=None, k=None,compounding='dcomp',m=1):\n",
    "    if i:\n",
    "        i=i/100\n",
    "        if compounding=='simple':\n",
    "            a=(1+(i*k))\n",
    "            ao=(1+(i*(k-1)))\n",
    "            return ((a-ao)/ao)\n",
    "        elif compounding!='simple':\n",
    "                i=(i/m)\n",
    "        if compounding=='dcomp':\n",
    "            a=(1+i)**k\n",
    "            a0=(1+i)**(k-1)\n",
    "            return ((a-a0)/a0)\n",
    "    elif d:\n",
    "        if compounding=='simple':\n",
    "            d=(d/100)\n",
    "            a=(1/(1+(d*k)))\n",
    "            ao=(1/(1+(d*(k-1))))\n",
    "            return ((a-ao)/ao)\n",
    "        elif compounding!='simple':\n",
    "                d=(d/m)\n",
    "        if compounding=='dcomp':\n",
    "            a=(1-d)**-k\n",
    "            a0=(1-d)**-(k-1)\n",
    "            return ((a-a0)/a0)\n",
    "        \n",
    "#     elif compounding=='ccomp':\n",
    "#         a=np.exp(i*k)\n",
    "#         a0=np.exp(i*(k-1))\n",
    "#         return ((a-a0)/a0)\n",
    "        "
   ]
  },
  {
   "cell_type": "code",
   "execution_count": 22,
   "metadata": {},
   "outputs": [
    {
     "data": {
      "text/plain": [
       "0.07250818125421654"
      ]
     },
     "execution_count": 22,
     "metadata": {},
     "output_type": "execute_result"
    }
   ],
   "source": [
    "peir(i=7,k=1,compounding='ccomp')"
   ]
  },
  {
   "cell_type": "code",
   "execution_count": 18,
   "metadata": {},
   "outputs": [
    {
     "data": {
      "text/plain": [
       "0.004999999999999812"
      ]
     },
     "execution_count": 18,
     "metadata": {},
     "output_type": "execute_result"
    }
   ],
   "source": [
    "peir(i=6,k=5,compounding='dcomp',m=12)"
   ]
  },
  {
   "cell_type": "code",
   "execution_count": 16,
   "metadata": {},
   "outputs": [
    {
     "data": {
      "text/plain": [
       "0.027522935779816536"
      ]
     },
     "execution_count": 16,
     "metadata": {},
     "output_type": "execute_result"
    }
   ],
   "source": [
    "peir(i=3,k=4,compounding='simple')"
   ]
  },
  {
   "cell_type": "code",
   "execution_count": 7,
   "metadata": {},
   "outputs": [],
   "source": [
    "#Discount works\n",
    "def discount(pmt,i,n):\n",
    "    i=i/100\n",
    "    return(pmt/((1+i)**(n)))\n",
    "#Accumulate works\n",
    "def accumulate(pmt,i,n):\n",
    "    i=i/100\n",
    "    return (pmt*((1+i)**n))\n",
    "def a(n,i):\n",
    "    i=i/100\n",
    "    return ((1-(1/((1+i)**n)))/i)\n",
    "def a_(n,i):\n",
    "    i=i/100\n",
    "    d=i/(1+i)\n",
    "    return ((1-(1/((1+i)**n)))/d)\n",
    "def s(n,i):\n",
    "    i=i/100\n",
    "    return (((1+i)**n)-1)/i\n",
    "def s_(n,i):\n",
    "    i=i/100\n",
    "    d=i/(1+i)\n",
    "    return (((1+i)**n)-1)/d\n",
    "def i_increasing_pmt(i,g):\n",
    "    i=i/100\n",
    "    g=g/100\n",
    "    return (((i-g)/(1+g))*100)"
   ]
  },
  {
   "cell_type": "code",
   "execution_count": 8,
   "metadata": {},
   "outputs": [],
   "source": [
    "#         if pv=='solve':\n",
    "#             re=discount(fv,i,n)\n",
    "#             if pmt:\n",
    "#                 while n>-1:\n",
    "#                     re+=discount(pmt,i,n)\n",
    "#                     n-=1\n",
    "#         elif fv=='solve':\n",
    "#             re=accumulate(pv,i,n)\n",
    "#             while n>0:\n",
    "#                 re+=accumulate(pmt,i,n)\n",
    "#                 n-=1"
   ]
  },
  {
   "cell_type": "code",
   "execution_count": 9,
   "metadata": {},
   "outputs": [],
   "source": [
    "def unequal_pmts(pmts=[],i=5,pv=0,fv=0,bng=False):\n",
    "    re=0\n",
    "    if pmts==[]:\n",
    "        return 'Error: Must enter a list of payments'\n",
    "    if i=='solve':\n",
    "        return 'Error: Cannot solve for i'\n",
    "    elif bng:\n",
    "        if pv=='solve':\n",
    "            re=discount(fv,i,len(pmts)-1)\n",
    "            m=0\n",
    "            for p in pmts:\n",
    "                re+=discount(p,i,m)\n",
    "                m+=1\n",
    "        if fv=='solve':\n",
    "            re=accumulate(pv,i,len(pmts)-1)\n",
    "            m=len(pmts)-1\n",
    "            for p in pmts:\n",
    "                re+=accumulate(p,i,m)\n",
    "                m-=1\n",
    "    else:\n",
    "        if pv=='solve':\n",
    "            re=discount(fv,i,len(pmts))\n",
    "            m=1\n",
    "            for p in pmts:\n",
    "                re+=discount(p,i,m)\n",
    "                m+=1\n",
    "        if fv=='solve':\n",
    "            re=accumulate(pv,i,len(pmts))\n",
    "            m=len(pmts)\n",
    "            for p in pmts:\n",
    "                re+=accumulate(p,i,m)\n",
    "                m-=1\n",
    "    return re"
   ]
  },
  {
   "cell_type": "code",
   "execution_count": 10,
   "metadata": {},
   "outputs": [
    {
     "data": {
      "text/plain": [
       "869.0206241226649"
      ]
     },
     "execution_count": 10,
     "metadata": {},
     "output_type": "execute_result"
    }
   ],
   "source": [
    "#PV of uneven cashflows works\n",
    "#Payments of 400, 300, and 250 at 5%\n",
    "unequal_pmts(pmts=[400,300,250],i=5,pv='solve')"
   ]
  },
  {
   "cell_type": "code",
   "execution_count": 11,
   "metadata": {},
   "outputs": [],
   "source": [
    "def baii(n=None,i=5,pv=0,pmt=0,fv=0,bng=False, increasing=0):\n",
    "    if increasing!=0:\n",
    "        i=i_increasing_pmt(i,increasing)\n",
    "    if bng:\n",
    "        if pv=='solve':\n",
    "            re=discount(fv,i,n)\n",
    "            if pmt:\n",
    "                n-=1\n",
    "                while n>-1:\n",
    "                    re+=discount(pmt,i,n)\n",
    "                    n-=1\n",
    "        if fv=='solve':\n",
    "        #This FV works...\n",
    "            re=accumulate(pv,i,n)\n",
    "            if pmt:\n",
    "                while n>0:\n",
    "                    re+=accumulate(pmt,i,n)\n",
    "                    n-=1\n",
    "        elif pmt=='solve':\n",
    "            if pv!=0:\n",
    "                re=pv\n",
    "                re/=a_(n,i)\n",
    "            elif fv!=0:\n",
    "                re=fv\n",
    "                re/=s_(n,i)\n",
    "        elif i=='solve':\n",
    "            return (((fv/pv)**(1/n))-1)*100\n",
    "#         elif n=='solve':\n",
    "    else:\n",
    "        if pv=='solve':\n",
    "            re=discount(fv,i,n)\n",
    "            if pmt:\n",
    "                while n>0:\n",
    "                    re+=discount(pmt,i,n)\n",
    "                    n-=1\n",
    "        elif fv=='solve':\n",
    "            n-=1\n",
    "            re=accumulate(pv,i,n)\n",
    "            if pmt!=0:\n",
    "                while n>-1:\n",
    "                    re+=accumulate(pmt,i,n)\n",
    "                    n-=1\n",
    "        elif pmt=='solve':\n",
    "            if pv!=0:\n",
    "                re=pv\n",
    "                re/=a(n,i)\n",
    "            if fv!=0:\n",
    "                re=fv\n",
    "                re/=sb(n,i)\n",
    "#             while n>0:\n",
    "# #                 re+=accumulate(pmt,i,n)\n",
    "#                 n-=1\n",
    "        elif i=='solve':\n",
    "            return (((fv/pv)**(1/n))-1)*100\n",
    "#         elif n=='solve':\n",
    "#             left=np.log(1-(pmt/(pv*i)))\n",
    "#             return (left/np.log(1+i))\n",
    "    return re"
   ]
  },
  {
   "cell_type": "code",
   "execution_count": 37,
   "metadata": {},
   "outputs": [
    {
     "data": {
      "text/plain": [
       "59655.11214924884"
      ]
     },
     "execution_count": 37,
     "metadata": {},
     "output_type": "execute_result"
    }
   ],
   "source": [
    "#Fixed % Increasing Payments Work\n",
    "\n",
    "#Your uncle is retiring tomorrow when he turns 65. He expects to live for\n",
    "#another 20 years. He has accumulated $1 million in his retirement\n",
    "#account and would like to start making annual withdrawls tomorrow to\n",
    "#support his retirement. The accoune earns 5% annually and your uncle\n",
    "#would like to increase his withdrawls by 3% every year to account for inflation.\n",
    "#How much should he withdraw tomorrow?\n",
    "baii(n=20,i=5,pv=1000000,pmt='solve',bng=True,increasing=3)"
   ]
  },
  {
   "cell_type": "code",
   "execution_count": 12,
   "metadata": {},
   "outputs": [
    {
     "data": {
      "text/plain": [
       "1.9417475728155342"
      ]
     },
     "execution_count": 12,
     "metadata": {},
     "output_type": "execute_result"
    }
   ],
   "source": [
    "increasing_pmt(5,3)"
   ]
  },
  {
   "cell_type": "code",
   "execution_count": 4,
   "metadata": {
    "scrolled": true
   },
   "outputs": [
    {
     "data": {
      "text/plain": [
       "2.999771879720292"
      ]
     },
     "execution_count": 4,
     "metadata": {},
     "output_type": "execute_result"
    }
   ],
   "source": [
    "baii(n=40,i='solve',pv=6131.68,fv=20000)"
   ]
  },
  {
   "cell_type": "code",
   "execution_count": 57,
   "metadata": {},
   "outputs": [
    {
     "data": {
      "text/plain": [
       "22457.775239802715"
      ]
     },
     "execution_count": 57,
     "metadata": {},
     "output_type": "execute_result"
    }
   ],
   "source": [
    "#This PV Problem works\n",
    "# 1) How much money must you deposit now at 6% interest compounded \n",
    "# quarterly in order to be able to withdraw $3,000 at the end of \n",
    "# each quarter year for two years? \n",
    "#PV=$22457.78\n",
    "baii(n=8,i=1.5,pmt=3000,pv='solve')"
   ]
  },
  {
   "cell_type": "code",
   "execution_count": 58,
   "metadata": {},
   "outputs": [
    {
     "data": {
      "text/plain": [
       "3000.0000000000164"
      ]
     },
     "execution_count": 58,
     "metadata": {},
     "output_type": "execute_result"
    }
   ],
   "source": [
    "#This works...\n",
    "baii(n=8,i=1.5,pv=22457.775239802715, pmt='solve')"
   ]
  },
  {
   "cell_type": "code",
   "execution_count": 59,
   "metadata": {},
   "outputs": [
    {
     "data": {
      "text/plain": [
       "6131.136815476127"
      ]
     },
     "execution_count": 59,
     "metadata": {},
     "output_type": "execute_result"
    }
   ],
   "source": [
    "#This PV Problem works as well\n",
    "How much would I have to deposit in an account today that pays 12%\n",
    "interest compounded quarterly, so that I have a balance of 20,000 in the\n",
    "account at the end of 10 years?\n",
    "Answer: 6131.14\n",
    "baii(n=40,i=3,pv='solve',fv=20000)"
   ]
  },
  {
   "cell_type": "code",
   "execution_count": 60,
   "metadata": {},
   "outputs": [
    {
     "data": {
      "text/plain": [
       "100336.67614366407"
      ]
     },
     "execution_count": 60,
     "metadata": {},
     "output_type": "execute_result"
    }
   ],
   "source": [
    "#CORRECT\n",
    "# Suppose you invested $1000 per quarter over a 15 year period. \n",
    "# If money earns an annual rate of 6.5% compounded quarterly, \n",
    "# how much would be available at the end of the time period?\n",
    "#FV=$100,336.68\n",
    "baii(n=60,i=1.625,pmt=1000,fv='solve')"
   ]
  },
  {
   "cell_type": "code",
   "execution_count": 17,
   "metadata": {},
   "outputs": [
    {
     "data": {
      "text/plain": [
       "100336.67614366469"
      ]
     },
     "execution_count": 17,
     "metadata": {},
     "output_type": "execute_result"
    }
   ],
   "source": [
    "1000*(s(60,1.625))"
   ]
  },
  {
   "cell_type": "code",
   "execution_count": 61,
   "metadata": {},
   "outputs": [
    {
     "data": {
      "text/plain": [
       "100.12683669679065"
      ]
     },
     "execution_count": 61,
     "metadata": {},
     "output_type": "execute_result"
    }
   ],
   "source": [
    "# 2.2 #2\n",
    "#Determine the present value of a 15-month annuity immediate with\n",
    "#monthly payments of 7 using monthly effective interest rate of 0.6%\n",
    "baii(n=15,i=0.6,pmt=7,pv='solve')\n",
    "#Correct! Answer: 100.1268367"
   ]
  },
  {
   "cell_type": "code",
   "execution_count": 62,
   "metadata": {},
   "outputs": [
    {
     "data": {
      "text/plain": [
       "13.2405"
      ]
     },
     "execution_count": 62,
     "metadata": {},
     "output_type": "execute_result"
    }
   ],
   "source": [
    "#2.2 #1\n",
    "#Determine the accumulated value of a 3-year annuity due with annual \n",
    "#payments of 4 using an annual effective interest rate of 5%\n",
    "baii(n=3,pmt=4,i=5,bng=True,fv='solve')\n",
    "#Correct! Anser: 13.2405"
   ]
  },
  {
   "cell_type": "code",
   "execution_count": 19,
   "metadata": {},
   "outputs": [
    {
     "data": {
      "text/plain": [
       "13.240500000000011"
      ]
     },
     "execution_count": 19,
     "metadata": {},
     "output_type": "execute_result"
    }
   ],
   "source": [
    "4*(s_(3,5))"
   ]
  },
  {
   "cell_type": "code",
   "execution_count": 14,
   "metadata": {},
   "outputs": [
    {
     "data": {
      "text/plain": [
       "13.24050000000001"
      ]
     },
     "execution_count": 14,
     "metadata": {},
     "output_type": "execute_result"
    }
   ],
   "source": [
    "accumulate(4*(a_(3,5)),5,3)"
   ]
  },
  {
   "cell_type": "code",
   "execution_count": 63,
   "metadata": {},
   "outputs": [
    {
     "data": {
      "text/plain": [
       "454.595050416236"
      ]
     },
     "execution_count": 63,
     "metadata": {},
     "output_type": "execute_result"
    }
   ],
   "source": [
    "#Annuity dues seem to work as well... annuity due of 5 years with 5% aeir\n",
    "#w payments of 100\n",
    "baii(n=5,i=5,pmt=100,bng=True,pv='solve')\n",
    "#Correct! Answer: 454.60"
   ]
  },
  {
   "cell_type": "code",
   "execution_count": 16,
   "metadata": {},
   "outputs": [
    {
     "data": {
      "text/plain": [
       "11.437641723356016"
      ]
     },
     "execution_count": 16,
     "metadata": {},
     "output_type": "execute_result"
    }
   ],
   "source": [
    "4*(a_(3,5))"
   ]
  },
  {
   "cell_type": "code",
   "execution_count": null,
   "metadata": {},
   "outputs": [],
   "source": []
  }
 ],
 "metadata": {
  "kernelspec": {
   "display_name": "Python 3",
   "language": "python",
   "name": "python3"
  },
  "language_info": {
   "codemirror_mode": {
    "name": "ipython",
    "version": 3
   },
   "file_extension": ".py",
   "mimetype": "text/x-python",
   "name": "python",
   "nbconvert_exporter": "python",
   "pygments_lexer": "ipython3",
   "version": "3.7.3"
  }
 },
 "nbformat": 4,
 "nbformat_minor": 2
}
