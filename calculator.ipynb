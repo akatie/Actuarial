{
 "cells": [
  {
   "cell_type": "code",
   "execution_count": 1,
   "metadata": {},
   "outputs": [],
   "source": [
    "import numpy as np"
   ]
  },
  {
   "cell_type": "code",
   "execution_count": 19,
   "metadata": {},
   "outputs": [],
   "source": [
    "def discount(pmt,i,n):\n",
    "    i=i/100\n",
    "    return(pmt/((1+i)**(n)))"
   ]
  },
  {
   "cell_type": "code",
   "execution_count": 14,
   "metadata": {},
   "outputs": [],
   "source": [
    "def pv(n=None,i=None,pv=None,pmt=None,fv=None,bng=False):\n",
    "#     if n is None:\n",
    "#         return (np.ln(pv/pmt)/(np.ln(1+i))\n",
    "    if i is None:\n",
    "        return (np.ln(pv/pmt)/-n)-1\n",
    "    if pv is None:\n",
    "        return (pmt*((1+i)**-n))\n",
    "    if pmt is None:\n",
    "        return (pv*((1+i)**n))"
   ]
  },
  {
   "cell_type": "code",
   "execution_count": 16,
   "metadata": {},
   "outputs": [],
   "source": [
    "def pv(n=None,i=None,pv=None,pmt=None,fv=None,bng=False):\n",
    "    if pv is None:\n",
    "        pv=0\n",
    "        while n>0:\n",
    "            pv+=discount(pmt,i,n)\n",
    "            n-=1\n",
    "        return pv"
   ]
  },
  {
   "cell_type": "code",
   "execution_count": 20,
   "metadata": {},
   "outputs": [
    {
     "data": {
      "text/plain": [
       "22457.775239802715"
      ]
     },
     "execution_count": 20,
     "metadata": {},
     "output_type": "execute_result"
    }
   ],
   "source": [
    "pv(n=8,i=1.5,pmt=3000,fv=0)"
   ]
  },
  {
   "cell_type": "code",
   "execution_count": null,
   "metadata": {},
   "outputs": [],
   "source": []
  }
 ],
 "metadata": {
  "kernelspec": {
   "display_name": "Python 3",
   "language": "python",
   "name": "python3"
  },
  "language_info": {
   "codemirror_mode": {
    "name": "ipython",
    "version": 3
   },
   "file_extension": ".py",
   "mimetype": "text/x-python",
   "name": "python",
   "nbconvert_exporter": "python",
   "pygments_lexer": "ipython3",
   "version": "3.7.3"
  }
 },
 "nbformat": 4,
 "nbformat_minor": 2
}
