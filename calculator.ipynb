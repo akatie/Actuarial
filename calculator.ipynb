{
 "cells": [
  {
   "cell_type": "code",
   "execution_count": 1,
   "metadata": {},
   "outputs": [],
   "source": [
    "import numpy as np"
   ]
  },
  {
   "cell_type": "code",
   "execution_count": 2,
   "metadata": {},
   "outputs": [],
   "source": [
    "#Discount works\n",
    "def discount(pmt,i,n):\n",
    "    i=i/100\n",
    "    return(pmt/((1+i)**(n)))\n",
    "#Accumulate works\n",
    "def accumulate(pmt,i,n):\n",
    "    i=i/100\n",
    "    return(pmt*((1+i)**n))"
   ]
  },
  {
   "cell_type": "code",
   "execution_count": 3,
   "metadata": {},
   "outputs": [
    {
     "data": {
      "text/plain": [
       "1315.0125784630402"
      ]
     },
     "execution_count": 3,
     "metadata": {},
     "output_type": "execute_result"
    }
   ],
   "source": [
    "accumulate(10,5,100)"
   ]
  },
  {
   "cell_type": "code",
   "execution_count": 29,
   "metadata": {},
   "outputs": [],
   "source": [
    "def baii(n=None,i=None,pv=0,pmt=None,fv=0,bng=False):\n",
    "    if pv=='solve':\n",
    "        re=discount(fv,i,n)\n",
    "        if pmt:\n",
    "            while n>0:\n",
    "                re+=discount(pmt,i,n)\n",
    "                n-=1\n",
    "    elif fv=='solve':\n",
    "        re=accumulate(pv,i,n)\n",
    "        while n>0:\n",
    "            re+=accumulate(pmt,i,n)\n",
    "            n-=1\n",
    "\n",
    "#     elif fv=='solve':\n",
    "#         re=0\n",
    "#         if pv is False:\n",
    "#             while n>-1:\n",
    "#                 re+=accumulate(pmt,i,n)\n",
    "#                 n-=1\n",
    "#         elif pv is True:\n",
    "#             if pmt is None:\n",
    "#                 re=pv*((1+i)**n)\n",
    "#             else:\n",
    "#                 re=pv*((1+i)**n)\n",
    "#                 while n>-1:\n",
    "#                     re+=accumulate(pmt,i,n)\n",
    "#                     n-=1\n",
    "    return re"
   ]
  },
  {
   "cell_type": "code",
   "execution_count": null,
   "metadata": {},
   "outputs": [],
   "source": [
    "#trying to write portion to solve for payment, difficult ://\n",
    "#     elif pmt=='solve':\n",
    "#         tracker=0\n",
    "#         if fv!=0:\n",
    "#             while tracker<fv:\n",
    "#                 re+=accumulate(1,i,n)\n",
    "#                 n-=1\n",
    "#             re=(fv/re)\n",
    "#         if pv!=0:\n",
    "#             while pv>0:\n",
    "#                 re+="
   ]
  },
  {
   "cell_type": "code",
   "execution_count": 19,
   "metadata": {},
   "outputs": [
    {
     "data": {
      "text/plain": [
       "22457.775239802715"
      ]
     },
     "execution_count": 19,
     "metadata": {},
     "output_type": "execute_result"
    }
   ],
   "source": [
    "#This PV Problem works\n",
    "# 1) How much money must you deposit now at 6% interest compounded \n",
    "# quarterly in order to be able to withdraw $3,000 at the end of \n",
    "# each quarter year for two years? \n",
    "#PV=$22457.78\n",
    "baii(n=8,i=1.5,pmt=3000,pv='solve')"
   ]
  },
  {
   "cell_type": "code",
   "execution_count": 21,
   "metadata": {},
   "outputs": [
    {
     "data": {
      "text/plain": [
       "6131.136815476127"
      ]
     },
     "execution_count": 21,
     "metadata": {},
     "output_type": "execute_result"
    }
   ],
   "source": [
    "#This PV Problem works as well\n",
    "#How much would I have to deposit in an account today that pays 12%\n",
    "#interest compounded quarterly, so that I have a balance of 20,000 in the\n",
    "#account at the end of 10 years?\n",
    "#Answer: 6131.14\n",
    "baii(n=40,i=3,pv='solve',fv=20000)"
   ]
  },
  {
   "cell_type": "code",
   "execution_count": 28,
   "metadata": {},
   "outputs": [
    {
     "data": {
      "text/plain": [
       "101967.14713099861"
      ]
     },
     "execution_count": 28,
     "metadata": {},
     "output_type": "execute_result"
    }
   ],
   "source": [
    "#Not sure why this one isn't entirely correct :( )\n",
    "# Suppose you invested $1000 per quarter over a 15 year period. \n",
    "# If money earns an annual rate of 6.5% compounded quarterly, \n",
    "# how much would be available at the end of the time period?\n",
    "#FV=$100,336.68\n",
    "baii(n=60,i=1.625,pmt=1000,fv='solve')"
   ]
  },
  {
   "cell_type": "code",
   "execution_count": null,
   "metadata": {},
   "outputs": [],
   "source": [
    "baii(n=20,i=1.5,)"
   ]
  }
 ],
 "metadata": {
  "kernelspec": {
   "display_name": "Python 3",
   "language": "python",
   "name": "python3"
  },
  "language_info": {
   "codemirror_mode": {
    "name": "ipython",
    "version": 3
   },
   "file_extension": ".py",
   "mimetype": "text/x-python",
   "name": "python",
   "nbconvert_exporter": "python",
   "pygments_lexer": "ipython3",
   "version": "3.7.3"
  }
 },
 "nbformat": 4,
 "nbformat_minor": 2
}
