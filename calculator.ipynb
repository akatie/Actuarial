{
 "cells": [
  {
   "cell_type": "code",
   "execution_count": 1,
   "metadata": {},
   "outputs": [],
   "source": [
    "import numpy as np"
   ]
  },
  {
   "cell_type": "code",
   "execution_count": 55,
   "metadata": {},
   "outputs": [],
   "source": [
    "#Discount works\n",
    "def discount(pmt,i,n):\n",
    "    i=i/100\n",
    "    return(pmt/((1+i)**(n)))\n",
    "#Accumulate works\n",
    "def accumulate(pmt,i,n):\n",
    "    i=i/100\n",
    "    return (pmt*((1+i)**n))\n",
    "def a(n,i):\n",
    "    i=i/100\n",
    "    return ((1-(1/((1+i)**n)))/i)\n",
    "def a_(n,i):\n",
    "    i=i/100\n",
    "    d=i/(1+i)\n",
    "    return ((1-(1/((1+i)**n)))/d)\n",
    "def s(n,i):\n",
    "    i=i/100\n",
    "    return (((1+i)**n)-1)/i\n",
    "def s_(n,i):\n",
    "    i=i/100\n",
    "    d=i/(1+i)\n",
    "    return (((1+i)**n)-1)/d"
   ]
  },
  {
   "cell_type": "code",
   "execution_count": 12,
   "metadata": {
    "scrolled": true
   },
   "outputs": [
    {
     "data": {
      "text/plain": [
       "162.8894626777442"
      ]
     },
     "execution_count": 12,
     "metadata": {},
     "output_type": "execute_result"
    }
   ],
   "source": [
    "accumulate(100,5,10)"
   ]
  },
  {
   "cell_type": "code",
   "execution_count": 4,
   "metadata": {},
   "outputs": [],
   "source": [
    "#         if pv=='solve':\n",
    "#             re=discount(fv,i,n)\n",
    "#             if pmt:\n",
    "#                 while n>-1:\n",
    "#                     re+=discount(pmt,i,n)\n",
    "#                     n-=1\n",
    "#         elif fv=='solve':\n",
    "#             re=accumulate(pv,i,n)\n",
    "#             while n>0:\n",
    "#                 re+=accumulate(pmt,i,n)\n",
    "#                 n-=1"
   ]
  },
  {
   "cell_type": "code",
   "execution_count": 56,
   "metadata": {},
   "outputs": [],
   "source": [
    "def baii(n=None,i=None,pv=0,pmt=0,fv=0,bng=False):\n",
    "    if bng:\n",
    "        if pv=='solve':\n",
    "            re=discount(fv,i,n)\n",
    "            if pmt:\n",
    "                n-=1\n",
    "                while n>-1:\n",
    "                    re+=discount(pmt,i,n)\n",
    "                    n-=1\n",
    "        if fv=='solve':\n",
    "        #This FV works...\n",
    "            re=accumulate(pv,i,n)\n",
    "            if pmt:\n",
    "                while n>0:\n",
    "                    re+=accumulate(pmt,i,n)\n",
    "                    n-=1\n",
    "        elif pmt=='solve':\n",
    "            if pv!=0:\n",
    "                re=pv\n",
    "                re/=a_(n,i)\n",
    "            elif fv!=0:\n",
    "                re=fv\n",
    "                re/=s_(n,i)\n",
    "    else:\n",
    "        if pv=='solve':\n",
    "            re=discount(fv,i,n)\n",
    "            if pmt:\n",
    "                while n>0:\n",
    "                    re+=discount(pmt,i,n)\n",
    "                    n-=1\n",
    "        elif fv=='solve':\n",
    "            n-=1\n",
    "            re=accumulate(pv,i,n)\n",
    "            if pmt!=0:\n",
    "                while n>-1:\n",
    "                    re+=accumulate(pmt,i,n)\n",
    "                    n-=1\n",
    "        elif pmt=='solve':\n",
    "            if pv!=0:\n",
    "                re=pv\n",
    "                re/=a(n,i)\n",
    "            if fv!=0:\n",
    "                re=fv\n",
    "                re/=s(n,i)\n",
    "#             while n>0:\n",
    "# #                 re+=accumulate(pmt,i,n)\n",
    "#                 n-=1\n",
    "    return re"
   ]
  },
  {
   "cell_type": "code",
   "execution_count": 43,
   "metadata": {},
   "outputs": [],
   "source": [
    "#trying to write portion to solve for payment, difficult ://\n",
    "#     elif pmt=='solve':\n",
    "#         tracker=0\n",
    "#         if fv!=0:\n",
    "#             while tracker<fv:\n",
    "#                 re+=accumulate(1,i,n)\n",
    "#                 n-=1\n",
    "#             re=(fv/re)\n",
    "#         if pv!=0:\n",
    "#             while pv>0:\n",
    "#                 re+="
   ]
  },
  {
   "cell_type": "code",
   "execution_count": 57,
   "metadata": {},
   "outputs": [
    {
     "data": {
      "text/plain": [
       "22457.775239802715"
      ]
     },
     "execution_count": 57,
     "metadata": {},
     "output_type": "execute_result"
    }
   ],
   "source": [
    "#This PV Problem works\n",
    "# 1) How much money must you deposit now at 6% interest compounded \n",
    "# quarterly in order to be able to withdraw $3,000 at the end of \n",
    "# each quarter year for two years? \n",
    "#PV=$22457.78\n",
    "baii(n=8,i=1.5,pmt=3000,pv='solve')"
   ]
  },
  {
   "cell_type": "code",
   "execution_count": 58,
   "metadata": {},
   "outputs": [
    {
     "data": {
      "text/plain": [
       "3000.0000000000164"
      ]
     },
     "execution_count": 58,
     "metadata": {},
     "output_type": "execute_result"
    }
   ],
   "source": [
    "#This works...\n",
    "baii(n=8,i=1.5,pv=22457.775239802715, pmt='solve')"
   ]
  },
  {
   "cell_type": "code",
   "execution_count": 59,
   "metadata": {},
   "outputs": [
    {
     "data": {
      "text/plain": [
       "6131.136815476127"
      ]
     },
     "execution_count": 59,
     "metadata": {},
     "output_type": "execute_result"
    }
   ],
   "source": [
    "#This PV Problem works as well\n",
    "#How much would I have to deposit in an account today that pays 12%\n",
    "#interest compounded quarterly, so that I have a balance of 20,000 in the\n",
    "#account at the end of 10 years?\n",
    "#Answer: 6131.14\n",
    "baii(n=40,i=3,pv='solve',fv=20000)"
   ]
  },
  {
   "cell_type": "code",
   "execution_count": 60,
   "metadata": {},
   "outputs": [
    {
     "data": {
      "text/plain": [
       "100336.67614366407"
      ]
     },
     "execution_count": 60,
     "metadata": {},
     "output_type": "execute_result"
    }
   ],
   "source": [
    "#CORRECT\n",
    "# Suppose you invested $1000 per quarter over a 15 year period. \n",
    "# If money earns an annual rate of 6.5% compounded quarterly, \n",
    "# how much would be available at the end of the time period?\n",
    "#FV=$100,336.68\n",
    "baii(n=60,i=1.625,pmt=1000,fv='solve')"
   ]
  },
  {
   "cell_type": "code",
   "execution_count": 61,
   "metadata": {},
   "outputs": [
    {
     "data": {
      "text/plain": [
       "100.12683669679065"
      ]
     },
     "execution_count": 61,
     "metadata": {},
     "output_type": "execute_result"
    }
   ],
   "source": [
    "# 2.2 #2\n",
    "#Determine the present value of a 15-month annuity immediate with\n",
    "#monthly payments of 7 using monthly effective interest rate of 0.6%\n",
    "baii(n=15,i=0.6,pmt=7,pv='solve')\n",
    "#Correct! Answer: 100.1268367"
   ]
  },
  {
   "cell_type": "code",
   "execution_count": 62,
   "metadata": {},
   "outputs": [
    {
     "data": {
      "text/plain": [
       "13.2405"
      ]
     },
     "execution_count": 62,
     "metadata": {},
     "output_type": "execute_result"
    }
   ],
   "source": [
    "#2.2 #1\n",
    "#Determine the accumulated value of a 3-year annuity due with annual \n",
    "#payments of 4 using an annual effective interest rate of 5%\n",
    "baii(n=3,pmt=4,i=5,bng=True,fv='solve')\n",
    "#Correct! Anser: 13.2405"
   ]
  },
  {
   "cell_type": "code",
   "execution_count": 63,
   "metadata": {},
   "outputs": [
    {
     "data": {
      "text/plain": [
       "454.595050416236"
      ]
     },
     "execution_count": 63,
     "metadata": {},
     "output_type": "execute_result"
    }
   ],
   "source": [
    "#Annuity dues seem to work as well... annuity due of 5 years with 5% aeir\n",
    "#w payments of 100\n",
    "baii(n=5,i=5,pmt=100,bng=True,pv='solve')\n",
    "#Correct! Answer: 454.60"
   ]
  },
  {
   "cell_type": "code",
   "execution_count": null,
   "metadata": {},
   "outputs": [],
   "source": []
  },
  {
   "cell_type": "code",
   "execution_count": null,
   "metadata": {},
   "outputs": [],
   "source": []
  }
 ],
 "metadata": {
  "kernelspec": {
   "display_name": "Python 3",
   "language": "python",
   "name": "python3"
  },
  "language_info": {
   "codemirror_mode": {
    "name": "ipython",
    "version": 3
   },
   "file_extension": ".py",
   "mimetype": "text/x-python",
   "name": "python",
   "nbconvert_exporter": "python",
   "pygments_lexer": "ipython3",
   "version": "3.7.3"
  }
 },
 "nbformat": 4,
 "nbformat_minor": 2
}
